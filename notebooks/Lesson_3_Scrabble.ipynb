{
 "cells": [
  {
   "cell_type": "markdown",
   "metadata": {},
   "source": [
    "## Longest ordered word\n",
    "\n",
    "My friend Susie asked on facebook \"what is the longest word that is in order? where in order means that each letter comes after the previous one alphabetically.\""
   ]
  },
  {
   "cell_type": "code",
   "execution_count": 4,
   "metadata": {},
   "outputs": [
    {
     "name": "stdout",
     "output_type": "stream",
     "text": [
      "\u001b[0m\u001b[01;34mdata\u001b[0m/  lecture_3_scrabble.ipynb\r\n"
     ]
    }
   ],
   "source": [
    "%ls\n",
    "# list the directory - magic command"
   ]
  },
  {
   "cell_type": "code",
   "execution_count": 6,
   "metadata": {},
   "outputs": [
    {
     "name": "stdout",
     "output_type": "stream",
     "text": [
      "sowpods.txt\r\n"
     ]
    }
   ],
   "source": [
    "%ls data \n",
    "# here's the file that I want"
   ]
  },
  {
   "cell_type": "code",
   "execution_count": 6,
   "metadata": {
    "collapsed": true
   },
   "outputs": [],
   "source": [
    "def read_dictionary(filename=\"data/sowpods.txt\"):\n",
    "    \"\"\"create a list of words in the scrabble dictionary\"\"\"\n",
    "    with open(filename,'r') as scrabblefile:\n",
    "        scrabble_dict = [word.strip() for word in scrabblefile]\n",
    "    return(scrabble_dict)"
   ]
  },
  {
   "cell_type": "code",
   "execution_count": 7,
   "metadata": {
    "collapsed": true
   },
   "outputs": [],
   "source": [
    "scrabble_dict = read_dictionary()"
   ]
  },
  {
   "cell_type": "code",
   "execution_count": 8,
   "metadata": {},
   "outputs": [
    {
     "name": "stdout",
     "output_type": "stream",
     "text": [
      "['AA', 'AAH', 'AAHED', 'AAHING', 'AAHS', 'AAL', 'AALII', 'AALIIS', 'AALS', 'AARDVARK']\n"
     ]
    }
   ],
   "source": [
    "print(scrabble_dict[:10])"
   ]
  },
  {
   "cell_type": "code",
   "execution_count": 9,
   "metadata": {},
   "outputs": [
    {
     "name": "stdout",
     "output_type": "stream",
     "text": [
      "ACCESSORIZING\n"
     ]
    }
   ],
   "source": [
    "tw = scrabble_dict[1111]\n",
    "print(tw)"
   ]
  },
  {
   "cell_type": "code",
   "execution_count": 6,
   "metadata": {
    "collapsed": true
   },
   "outputs": [],
   "source": [
    "## Practice with above word"
   ]
  },
  {
   "cell_type": "code",
   "execution_count": 7,
   "metadata": {
    "collapsed": true
   },
   "outputs": [],
   "source": [
    "def is_in_order(word):\n",
    "    \"\"\"return a true if the word is in order\"\"\""
   ]
  },
  {
   "cell_type": "code",
   "execution_count": null,
   "metadata": {
    "collapsed": true
   },
   "outputs": [],
   "source": [
    "def longest_word(scrabble_dict):\n",
    "    \"\"\"Returns all of the longest ordered words in the scrabble dictionary\"\"\""
   ]
  },
  {
   "cell_type": "code",
   "execution_count": 17,
   "metadata": {
    "collapsed": true
   },
   "outputs": [],
   "source": [
    "#Why do we make doc strings?"
   ]
  },
  {
   "cell_type": "markdown",
   "metadata": {},
   "source": [
    "## Unique letters: list comprehensions, dictionaries, sets"
   ]
  },
  {
   "cell_type": "code",
   "execution_count": 3,
   "metadata": {},
   "outputs": [
    {
     "data": {
      "text/plain": [
       "{'A', 'D', 'H', 'K', 'V'}"
      ]
     },
     "execution_count": 3,
     "metadata": {},
     "output_type": "execute_result"
    }
   ],
   "source": [
    "set(\"AAHDVAHK\")"
   ]
  },
  {
   "cell_type": "code",
   "execution_count": 10,
   "metadata": {},
   "outputs": [],
   "source": [
    "#%%timeit\n",
    "scrabble_sets = [] # construct word sets\n",
    "for word in scrabble_dict:\n",
    "    scrabble_sets.append(set(word))"
   ]
  },
  {
   "cell_type": "code",
   "execution_count": 15,
   "metadata": {},
   "outputs": [
    {
     "name": "stdout",
     "output_type": "stream",
     "text": [
      "1 loop, best of 3: 258 ms per loop\n"
     ]
    }
   ],
   "source": [
    "%%timeit\n",
    "# is there a better way with list comps?"
   ]
  },
  {
   "cell_type": "code",
   "execution_count": 11,
   "metadata": {
    "collapsed": true
   },
   "outputs": [],
   "source": [
    "#Let's look at the array object, which is a more compact list for certain immutable types\n",
    "from array import array\n",
    "from math import log\n",
    "ws_lens = array('i',(len(ws) for ws in scrabble_sets)) #Initialize the array with a gen expr\n",
    "n = len(scrabble_sets)"
   ]
  },
  {
   "cell_type": "code",
   "execution_count": 16,
   "metadata": {
    "collapsed": true
   },
   "outputs": [],
   "source": [
    "# Counting the number of unique letters in each word\n",
    "lens = [0]*20\n",
    "for l in ws_lens:\n",
    "    lens[l-1] += 1"
   ]
  },
  {
   "cell_type": "code",
   "execution_count": 13,
   "metadata": {},
   "outputs": [],
   "source": [
    "#Is there a better way using Counter?\n",
    "from collections import Counter\n",
    "Counter.__init__?"
   ]
  },
  {
   "cell_type": "code",
   "execution_count": 43,
   "metadata": {},
   "outputs": [
    {
     "name": "stdout",
     "output_type": "stream",
     "text": [
      "0: --> 5\n",
      "1: ------> 352\n",
      "2: --------> 3349\n",
      "3: ----------> 14854\n",
      "4: -----------> 39547\n",
      "5: -----------> 74169\n",
      "6: ------------> 104438\n",
      "7: ------------> 110914\n",
      "8: -----------> 90829\n",
      "9: -----------> 57806\n",
      "10: ----------> 27486\n",
      "11: ---------> 9402\n",
      "12: --------> 2076\n",
      "13: ------> 252\n",
      "14: ---> 21\n",
      "15: -> 2\n"
     ]
    }
   ],
   "source": [
    "#Let's explore iterables!  Print \n",
    "I = iter(range(len(word_lens)))\n",
    "for l in word_lens:\n",
    "    i = next(I)\n",
    "    if l > 0:\n",
    "        print(\"{}: {}> {}\".format(i,\"-\"*round(log(l)),l))"
   ]
  },
  {
   "cell_type": "code",
   "execution_count": null,
   "metadata": {
    "collapsed": true
   },
   "outputs": [],
   "source": [
    "# What is the more succinct way to do this with enumerate!"
   ]
  },
  {
   "cell_type": "code",
   "execution_count": 18,
   "metadata": {
    "collapsed": true
   },
   "outputs": [],
   "source": [
    "# I want to look up the number of unique letters in a word in O(1) time, how can I do this? "
   ]
  },
  {
   "cell_type": "code",
   "execution_count": null,
   "metadata": {
    "collapsed": true
   },
   "outputs": [],
   "source": [
    "# Similarity between words?"
   ]
  }
 ],
 "metadata": {
  "kernelspec": {
   "display_name": "Python 3",
   "language": "python",
   "name": "python3"
  },
  "language_info": {
   "codemirror_mode": {
    "name": "ipython",
    "version": 3
   },
   "file_extension": ".py",
   "mimetype": "text/x-python",
   "name": "python",
   "nbconvert_exporter": "python",
   "pygments_lexer": "ipython3",
   "version": "3.6.1"
  }
 },
 "nbformat": 4,
 "nbformat_minor": 2
}
